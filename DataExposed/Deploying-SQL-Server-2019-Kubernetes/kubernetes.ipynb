{
    "metadata": {
        "kernelspec": {
            "name": "powershell",
            "display_name": "PowerShell"
        },
        "language_info": {
            "name": "powershell",
            "codemirror_mode": "shell",
            "mimetype": "text/x-sh",
            "file_extension": ".ps1"
        }
    },
    "nbformat_minor": 2,
    "nbformat": 4,
    "cells": [
        {
            "cell_type": "markdown",
            "source": [
                "**Deploying SQL Server 2019 in Kubernetes** - SQLServer2019CU4.yaml defines in code a SQL Server deployment, configuration storage and service."
            ],
            "metadata": {
                "azdata_cell_guid": "4b1d956d-bc52-441f-acb7-0044f19c26eb"
            }
        },
        {
            "cell_type": "code",
            "source": [
                "kubectl apply -f https://raw.githubusercontent.com/nocentino/Presentations/master/DataExposed/SQLServer2019CU4.yaml"
            ],
            "metadata": {
                "azdata_cell_guid": "9f0c1f40-c963-4b50-aeeb-12c567453d10",
                "tags": [
                    "hide_input"
                ]
            },
            "outputs": [],
            "execution_count": null
        },
        {
            "cell_type": "markdown",
            "source": [
                "**Connect to the Instance in Azure Kubernetes Service** - In Kubernetes a Service is the persistent access point into an application. "
            ],
            "metadata": {
                "azdata_cell_guid": "14b4bf69-a168-4788-9122-a56848b2fdd2"
            }
        },
        {
            "cell_type": "code",
            "source": [
                "kubectl get service\n",
                "$SERVICEIP=kubectl get service mssql-deployment -o jsonpath='{.status.loadBalancer.ingress[].ip}'\n",
                "$PORT=31433\n",
                "Write-Output $SERVICEIP $PORT\n",
                "\n",
                "sqlcmd -S $SERVICEIP,$PORT -U sa -Q \"SELECT @@VERSION\" -P 'S0methingS@Str0ng!' "
            ],
            "metadata": {
                "azdata_cell_guid": "a792668b-4fe4-4141-aa85-8fafc375e6a7",
                "tags": [
                    "hide_input"
                ]
            },
            "outputs": [],
            "execution_count": null
        },
        {
            "cell_type": "markdown",
            "source": [
                "**Crashing SQL Server** - Kubernetes will restart the crashed container in the Pod. Do this too many times too quickly it will start to back off...initially 15s. Recovery will take only a few seconds.\n",
                ""
            ],
            "metadata": {
                "azdata_cell_guid": "296698a6-a866-41da-b4f4-f159406e0b9e"
            }
        },
        {
            "cell_type": "code",
            "source": [
                "sqlcmd -S $SERVICEIP,$PORT -U sa -Q \"SHUTDOWN WITH NOWAIT\" -P 'S0methingS@Str0ng!'"
            ],
            "metadata": {
                "azdata_cell_guid": "7e7144f5-7117-48b5-b77d-94820151572e",
                "tags": [
                    "hide_input"
                ]
            },
            "outputs": [],
            "execution_count": null
        },
        {
            "cell_type": "markdown",
            "source": [
                "**Connect to the instance again to see if its online**"
            ],
            "metadata": {
                "azdata_cell_guid": "8eff0244-7e45-4029-8103-9d24b97300e1"
            }
        },
        {
            "cell_type": "code",
            "source": [
                "sqlcmd -S $SERVICEIP,$PORT -U sa -Q \"SELECT @@VERSION\" -P 'S0methingS@Str0ng!' "
            ],
            "metadata": {
                "azdata_cell_guid": "13f817a5-ee75-4f2d-bf11-366d2a066db8",
                "tags": [
                    "hide_input"
                ]
            },
            "outputs": [],
            "execution_count": null
        },
        {
            "cell_type": "markdown",
            "source": [
                "**Delete SQL Server** - Since the Deployment is defined in code...if the Pod running in the Deployment is deleted, Kubernetes will create a new one with the same configuration and storage. "
            ],
            "metadata": {
                "azdata_cell_guid": "fa10d2a3-5179-49ec-81af-4b599121f93d"
            }
        },
        {
            "cell_type": "code",
            "source": [
                "$PODNAME=kubectl get pods -l app=mssql -o jsonpath='{ .items[0].metadata.name }'\n",
                "kubectl delete pod $PODNAME"
            ],
            "metadata": {
                "azdata_cell_guid": "ed362706-2066-4c3c-a99c-f75d7e098874",
                "tags": [
                    "hide_input"
                ]
            },
            "outputs": [],
            "execution_count": null
        },
        {
            "cell_type": "code",
            "source": [
                "sqlcmd -S $SERVICEIP,$PORT -U sa -Q \"SELECT @@VERSION\" -P 'S0methingS@Str0ng!' "
            ],
            "metadata": {
                "azdata_cell_guid": "ca9632c0-cf4b-4f88-8927-42e5c2db9f31",
                "tags": [
                    "hide_input"
                ]
            },
            "outputs": [],
            "execution_count": null
        },
        {
            "cell_type": "markdown",
            "source": [
                "**Updating SQL Server** - Let's update SQL Server from 2019 CU4 to CU5 by running one line of code. In the deployment manifest, the container image is using CU5. Apply that configuration to update SQL Server."
            ],
            "metadata": {
                "azdata_cell_guid": "41027184-b0a6-4fef-9d23-6258b1abeda4"
            }
        },
        {
            "cell_type": "code",
            "source": [
                "kubectl apply -f https://raw.githubusercontent.com/nocentino/Presentations/master/DataExposed/SQLServer2019CU5.yaml"
            ],
            "metadata": {
                "azdata_cell_guid": "0b9bacd5-8bcd-44f9-a8e1-fe83265b7208",
                "tags": [
                    "hide_input"
                ]
            },
            "outputs": [],
            "execution_count": null
        },
        {
            "cell_type": "code",
            "source": [
                "sqlcmd -S $SERVICEIP,$PORT -U sa -Q \"SELECT @@VERSION\" -P 'S0methingS@Str0ng!' "
            ],
            "metadata": {
                "azdata_cell_guid": "439d600d-f600-4209-a4b3-7f6271f4d0b4",
                "tags": [
                    "hide_input"
                ]
            },
            "outputs": [],
            "execution_count": null
        }
    ]
}