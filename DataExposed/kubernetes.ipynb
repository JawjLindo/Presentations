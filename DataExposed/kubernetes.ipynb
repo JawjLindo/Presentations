{
    "metadata": {
        "kernelspec": {
            "name": "powershell",
            "display_name": "PowerShell"
        },
        "language_info": {
            "name": "powershell",
            "codemirror_mode": "shell",
            "mimetype": "text/x-sh",
            "file_extension": ".ps1"
        }
    },
    "nbformat_minor": 2,
    "nbformat": 4,
    "cells": [
        {
            "cell_type": "markdown",
            "source": [
                "**Deploying SQL Server 2019 in Kubernetes**"
            ],
            "metadata": {
                "azdata_cell_guid": "4b1d956d-bc52-441f-acb7-0044f19c26eb"
            }
        },
        {
            "cell_type": "code",
            "source": [
                "kubectl apply -f https://raw.githubusercontent.com/nocentino/Presentations/master/DataExposed/SQLServer2019CU4.yaml"
            ],
            "metadata": {
                "azdata_cell_guid": "9f0c1f40-c963-4b50-aeeb-12c567453d10"
            },
            "outputs": [
                {
                    "output_type": "stream",
                    "name": "stdout",
                    "text": "secret/mssql unchanged\npersistentvolumeclaim/pvc-sql-system unchanged\ndeployment.apps/mssql-deployment configured\nservice/mssql-deployment unchanged\n"
                }
            ],
            "execution_count": 9
        },
        {
            "cell_type": "markdown",
            "source": [
                "**Connect to the Instance in Azure Kubernetes Service**"
            ],
            "metadata": {
                "azdata_cell_guid": "14b4bf69-a168-4788-9122-a56848b2fdd2"
            }
        },
        {
            "cell_type": "code",
            "source": [
                "kubectl get service\n",
                "$SERVICEIP=kubectl get service mssql-deployment -o jsonpath='{.status.loadBalancer.ingress[].ip}'\n",
                "$PORT=31433\n",
                "Write-Output $SERVICEIP,$PORT\n",
                "\n",
                "\n",
                "sqlcmd -S $SERVICEIP,$PORT -U sa -Q \"SELECT @@VERSION\" -P 'S0methingS@Str0ng!' "
            ],
            "metadata": {
                "azdata_cell_guid": "a792668b-4fe4-4141-aa85-8fafc375e6a7",
                "tags": []
            },
            "outputs": [
                {
                    "name": "stdout",
                    "text": "NAME               TYPE           CLUSTER-IP   EXTERNAL-IP    PORT(S)           AGE\nkubernetes         ClusterIP      10.0.0.1     <none>         443/TCP           29m\nmssql-deployment   LoadBalancer   10.0.13.25   13.86.57.251   31433:31066/TCP   13m\n13.86.57.251\n31433\n                                                                                                                                                                                                                                                                                                            \n------------------------------------------------------------------------------------------------------------------------------------------------------------------------------------------------------------------------------------------------------------------------------------------------------------\nMicrosoft SQL Server 2019 (RTM-CU4) (KB4548597) - 15.0.4033.1 (X64) \n\tMar 14 2020 16:10:35 \n\tCopyright (C) 2019 Microsoft Corporation\n\tDeveloper Edition (64-bit) on Linux (Ubuntu 18.04.4 LTS) <X64>                                                                                                       \n\n(1 rows affected)\n",
                    "output_type": "stream"
                }
            ],
            "execution_count": 2
        },
        {
            "cell_type": "markdown",
            "source": [
                "**Create a database**"
            ],
            "metadata": {
                "azdata_cell_guid": "898e2a1e-6a2e-430a-9eec-9bbe1a68273d"
            }
        },
        {
            "cell_type": "code",
            "source": [
                "sqlcmd -S $SERVICEIP,$PORT -U sa -Q \"CREATE DATABASE TestDB1\" -P 'S0methingS@Str0ng!' "
            ],
            "metadata": {
                "azdata_cell_guid": "3def2a98-5ed3-4251-a77f-835b45d09572"
            },
            "outputs": [
                {
                    "name": "stdout",
                    "text": "",
                    "output_type": "stream"
                }
            ],
            "execution_count": 4
        },
        {
            "cell_type": "code",
            "source": [
                "sqlcmd -S $SERVICEIP,$PORT -U sa -Q 'SELECT name from sys.databases' -P 'S0methingS@Str0ng!'"
            ],
            "metadata": {
                "azdata_cell_guid": "cdd301a9-a9d8-4c64-927c-e71e14ce8b03"
            },
            "outputs": [
                {
                    "name": "stdout",
                    "text": "name                                                                                                                            \n--------------------------------------------------------------------------------------------------------------------------------\nmaster                                                                                                                          \ntempdb                                                                                                                          \nmodel                                                                                                                           \nmsdb                                                                                                                            \nTestDB1                                                                                                                         \n\n(5 rows affected)\n",
                    "output_type": "stream"
                }
            ],
            "execution_count": 6
        },
        {
            "cell_type": "markdown",
            "source": [
                "**Crashing SQL Server** - #Crash SQL Server, do this too many times too quickly it will start to back off...initially 15s\n",
                ""
            ],
            "metadata": {
                "azdata_cell_guid": "296698a6-a866-41da-b4f4-f159406e0b9e"
            }
        },
        {
            "cell_type": "code",
            "source": [
                "sqlcmd -S $SERVICEIP,$PORT -U sa -Q \"SHUTDOWN WITH NOWAIT\" -P 'S0methingS@Str0ng!'\n",
                ""
            ],
            "metadata": {
                "azdata_cell_guid": "7e7144f5-7117-48b5-b77d-94820151572e",
                "tags": [
                    "hide_input"
                ]
            },
            "outputs": [
                {
                    "name": "stdout",
                    "text": "Server shut down by NOWAIT request from login sa.\n",
                    "output_type": "stream"
                }
            ],
            "execution_count": 8
        },
        {
            "cell_type": "code",
            "source": [
                "sqlcmd -S $SERVICEIP,$PORT -U sa -Q \"SELECT @@VERSION\" -P 'S0methingS@Str0ng!' "
            ],
            "metadata": {
                "azdata_cell_guid": "13f817a5-ee75-4f2d-bf11-366d2a066db8"
            },
            "outputs": [
                {
                    "name": "stdout",
                    "text": "                                                                                                                                                                                                                                                                                                            \n------------------------------------------------------------------------------------------------------------------------------------------------------------------------------------------------------------------------------------------------------------------------------------------------------------\nMicrosoft SQL Server 2019 (RTM-CU4) (KB4548597) - 15.0.4033.1 (X64) \n\tMar 14 2020 16:10:35 \n\tCopyright (C) 2019 Microsoft Corporation\n\tDeveloper Edition (64-bit) on Linux (Ubuntu 18.04.4 LTS) <X64>                                                                                                       \n\n(1 rows affected)\n",
                    "output_type": "stream"
                }
            ],
            "execution_count": 9
        },
        {
            "cell_type": "markdown",
            "source": [
                "Delete SQL Server"
            ],
            "metadata": {
                "azdata_cell_guid": "fa10d2a3-5179-49ec-81af-4b599121f93d"
            }
        },
        {
            "cell_type": "code",
            "source": [
                "$PODNAME=kubectl get pods -l app=mssql -o jsonpath='{ .items[0].metadata.name }'\n",
                "kubectl delete pod $PODNAME"
            ],
            "metadata": {
                "azdata_cell_guid": "ed362706-2066-4c3c-a99c-f75d7e098874"
            },
            "outputs": [
                {
                    "name": "stdout",
                    "text": "pod \"mssql-deployment-7f5b564898-ltpdj\" deleted\n",
                    "output_type": "stream"
                }
            ],
            "execution_count": 12
        },
        {
            "cell_type": "code",
            "source": [
                "sqlcmd -S $SERVICEIP,$PORT -U sa -Q \"SELECT @@VERSION\" -P 'S0methingS@Str0ng!' "
            ],
            "metadata": {
                "azdata_cell_guid": "ca9632c0-cf4b-4f88-8927-42e5c2db9f31"
            },
            "outputs": [
                {
                    "name": "stdout",
                    "text": "                                                                                                                                                                                                                                                                                                            \n------------------------------------------------------------------------------------------------------------------------------------------------------------------------------------------------------------------------------------------------------------------------------------------------------------\nMicrosoft SQL Server 2019 (RTM-CU4) (KB4548597) - 15.0.4033.1 (X64) \n\tMar 14 2020 16:10:35 \n\tCopyright (C) 2019 Microsoft Corporation\n\tDeveloper Edition (64-bit) on Linux (Ubuntu 18.04.4 LTS) <X64>                                                                                                       \n\n(1 rows affected)\n",
                    "output_type": "stream"
                }
            ],
            "execution_count": 13
        },
        {
            "cell_type": "markdown",
            "source": [
                "Updating SQL Server"
            ],
            "metadata": {
                "azdata_cell_guid": "41027184-b0a6-4fef-9d23-6258b1abeda4"
            }
        },
        {
            "cell_type": "code",
            "source": [
                "kubectl apply -f https://raw.githubusercontent.com/nocentino/Presentations/master/DataExposed/SQLServer2019CU5.yaml"
            ],
            "metadata": {
                "azdata_cell_guid": "0b9bacd5-8bcd-44f9-a8e1-fe83265b7208"
            },
            "outputs": [],
            "execution_count": null
        }
    ]
}