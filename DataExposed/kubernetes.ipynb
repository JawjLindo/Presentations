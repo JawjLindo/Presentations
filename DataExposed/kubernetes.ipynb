{
    "metadata": {
        "kernelspec": {
            "name": "powershell",
            "display_name": "PowerShell"
        },
        "language_info": {
            "name": "powershell",
            "codemirror_mode": "shell",
            "mimetype": "text/x-sh",
            "file_extension": ".ps1"
        }
    },
    "nbformat_minor": 2,
    "nbformat": 4,
    "cells": [
        {
            "cell_type": "markdown",
            "source": [
                "Deploying SQL Server 2019 in Kubernetes"
            ],
            "metadata": {
                "azdata_cell_guid": "4b1d956d-bc52-441f-acb7-0044f19c26eb"
            }
        },
        {
            "cell_type": "code",
            "source": [
                "kubectl apply -f https://raw.githubusercontent.com/nocentino/Presentations/master/DataExposed/SQLServer.yaml"
            ],
            "metadata": {
                "azdata_cell_guid": "9f0c1f40-c963-4b50-aeeb-12c567453d10"
            },
            "outputs": [
                {
                    "output_type": "stream",
                    "name": "stdout",
                    "text": "persistentvolumeclaim/pvc-sql-system unchanged\ndeployment.apps/mssql-deployment unchanged\nservice/mssql-deployment unchanged\n"
                }
            ],
            "execution_count": 3
        },
        {
            "cell_type": "markdown",
            "source": [
                "Creating a database"
            ],
            "metadata": {
                "azdata_cell_guid": "cd5e2f24-3590-4e2a-aa3f-c6be704b772a"
            }
        },
        {
            "cell_type": "code",
            "source": [
                "kubectl get service\n",
                "$SERVICEIP=kubectl get service mssql-deployment -o jsonpath='{.status.loadBalancer.ingress[].ip}'\n",
                "$PORT=31433\n",
                "Write-Output $SERVICEIP,$PORT\n",
                "\n",
                "\n",
                "#Check out the servername and the version in the container, 2017 CU16...\n",
                "sqlcmd -S $SERVICEIP,$PORT -U sa -Q \"SELECT @@VERSION\" -P 'S0methingS@Str0ng!' "
            ],
            "metadata": {
                "azdata_cell_guid": "a792668b-4fe4-4141-aa85-8fafc375e6a7"
            },
            "outputs": [
                {
                    "name": "stdout",
                    "text": "NAME               TYPE           CLUSTER-IP   EXTERNAL-IP    PORT(S)           AGE\nkubernetes         ClusterIP      10.0.0.1     <none>         443/TCP           24m\nmssql-deployment   LoadBalancer   10.0.13.25   13.86.57.251   31433:31066/TCP   7m28s\n13.86.57.251\n31433\nSqlcmd: Error: Microsoft ODBC Driver 17 for SQL Server : Login failed for user 'sa'. Reason: Server is in script upgrade mode. Only administrator can connect at this time..\n",
                    "output_type": "stream"
                }
            ],
            "execution_count": 6
        },
        {
            "cell_type": "markdown",
            "source": [
                "Crashing SQL Server"
            ],
            "metadata": {
                "azdata_cell_guid": "296698a6-a866-41da-b4f4-f159406e0b9e"
            }
        },
        {
            "cell_type": "markdown",
            "source": [
                "Updating SQL Server"
            ],
            "metadata": {
                "azdata_cell_guid": "41027184-b0a6-4fef-9d23-6258b1abeda4"
            }
        }
    ]
}